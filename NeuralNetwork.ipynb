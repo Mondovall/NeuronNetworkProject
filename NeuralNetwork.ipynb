{
  "nbformat": 4,
  "nbformat_minor": 0,
  "metadata": {
    "colab": {
      "name": "NeuralNetwork.ipynb",
      "provenance": [],
      "authorship_tag": "ABX9TyP6xPkJ6oTE9whioMWz+Zbt",
      "include_colab_link": true
    },
    "kernelspec": {
      "name": "python3",
      "display_name": "Python 3"
    },
    "language_info": {
      "name": "python"
    }
  },
  "cells": [
    {
      "cell_type": "markdown",
      "metadata": {
        "id": "view-in-github",
        "colab_type": "text"
      },
      "source": [
        "<a href=\"https://colab.research.google.com/github/TimmoHoang/NeuronNetworkProject/blob/master/NeuralNetwork.ipynb\" target=\"_parent\"><img src=\"https://colab.research.google.com/assets/colab-badge.svg\" alt=\"Open In Colab\"/></a>"
      ]
    },
    {
      "cell_type": "code",
      "metadata": {
        "colab": {
          "base_uri": "https://localhost:8080/",
          "height": 518
        },
        "id": "GQFfXgLGoiO0",
        "outputId": "bf2c6e26-f170-43b1-98de-8c14b6084a22"
      },
      "source": [
        "import pandas as pd\n",
        "import numpy as np\n",
        "import csv\n",
        "import seaborn as sns\n",
        "import matplotlib.pyplot as plt\n",
        "\n",
        "\n",
        "import tensorflow as tf\n",
        "from tensorflow import keras\n",
        "from tensorflow.keras import layers\n",
        "\n",
        "print(tf.__version__)\n",
        "\n",
        "training_set = pd.read_csv(\"StudentsPerformance.csv\")\n",
        "\n",
        "training_set.head()\n",
        "shalow_training_set = training_set.copy()\n",
        "shalow_training_set.isna().sum()\n",
        "shalow_training_set = pd.get_dummies(shalow_training_set)\n",
        "shalow_training_set.head()\n",
        "shalow_training_set.describe().T\n",
        "## reference from https://www.tensorflow.org/tutorials/keras/regression\n",
        "# train set 70\n",
        "train_set = shalow_training_set.sample(frac=0.7, random_state=0)\n",
        "new_set = shalow_training_set.drop(train_set.index)\n",
        "\n",
        "# test set 15\n",
        "test_set = new_set.sample(frac=0.5, random_state=0)\n",
        "\n",
        "# validation set 15\n",
        "validation_set = new_set.drop(test_set.index)\n",
        "\n",
        "# training/test/validation features (copy of train/test/validation sets)\n",
        "train_feas = train_set.copy()\n",
        "test_feas = test_set.copy()\n",
        "validation_feas = validation_set.copy()\n",
        "\n",
        "# scores separated sets 70/15/15 model\n",
        "# reference from https://www.kite.com/python/answers/how-to-merge-two-pandas-series-into-a-dataframe-in-python\n",
        "train_labels_m = train_feas.pop(\"math score\")\n",
        "train_labels_r = train_feas.pop(\"reading score\")\n",
        "train_labels_w = train_feas.pop(\"writing score\")\n",
        "train_labels = pd.concat([train_labels_m, train_labels_r, train_labels_w], axis=1)\n",
        "\n",
        "test_labels_m = test_feas.pop(\"math score\")\n",
        "test_labels_r = test_feas.pop(\"reading score\")\n",
        "test_labels_w = test_feas.pop(\"writing score\")\n",
        "test_labels = pd.concat([test_labels_m, test_labels_r, test_labels_w], axis=1)\n",
        "\n",
        "validation_labels_m = validation_feas.pop(\"math score\")\n",
        "validation_labels_r = validation_feas.pop(\"reading score\")\n",
        "validation_labels_w = validation_feas.pop(\"writing score\")\n",
        "validation_labels = pd.concat([validation_labels_m, validation_labels_r, validation_labels_w], axis=1)\n",
        "\n",
        "normalizer = tf.keras.layers.Normalization(axis =-1)\n",
        "normalizer.adapt(np.array(train_feas))\n",
        "\n",
        "# tensor flow tutorial building training linear model.\n",
        "\n",
        "## reference from https://www.tensorflow.org/tutorials/keras/regression\n",
        "gender_female_based = np.array(train_feas['gender_female'])\n",
        "gender_female_normalizer = layers.Normalization(input_shape=[1,], axis = None)\n",
        "gender_female_normalizer.adapt(gender_female_based)\n",
        "\n",
        "gender_female_model = tf.keras.Sequential([gender_female_normalizer, layers.Dense(units=1)])\n",
        "\n",
        "gender_female_model.predict(gender_female_based[:10]) # predict build\n",
        "\n",
        "gender_female_model.compile(optimizer=tf.optimizers.Adam(learning_rate=0.1), loss='mean_absolute_error')\n",
        "\n",
        "%time\n",
        "history = gender_female_model.fit(train_feas['gender_female'], train_labels, epochs=12, verbose=0)\n",
        "\n",
        "hist = pd.DataFrame(history.history)\n",
        "hist['epoch'] = history.epoch\n",
        "hist.tail()\n",
        "\n",
        "test_results = {}\n",
        "test_results['gender_female_model'] = gender_female_model.evaluate(test_feas['gender_female'], test_labels, verbose=0)\n",
        "\n",
        "\n",
        "\n",
        "#Multiple inputs regression, reference https://www.tensorflow.org/tutorials/keras/regression\n",
        "\n",
        "regression_model = tf.keras.Sequential([normalizer, layers.Dense(units=1)])\n",
        "regression_model.predict(train_feas[:10])\n",
        "print(1)\n",
        "regression_model.layers[1].kernel\n",
        "\n",
        "regression_model.compile(optimizer=tf.optimizers.Adam(learning_rate=0.1), loss='mean_absolute_error')\n",
        "\n",
        "\n",
        "%time\n",
        "history = regression_model.fit(train_feas, train_labels, epochs=12, verbose=0, validation_split=0)\n",
        "test_results['regression_model'] = regression_model.evaluate(test_feas, test_labels, verbose=0)\n",
        "\n",
        "#/ Building Deep Training NN /#\n",
        "## Following a tutorial on tensorflow.org.\n",
        "def compile_func(para):\n",
        "  network_model = keras.Sequential([para, layers.Dense(64, activation='relu'), layers.Dense(64, activation='relu'), layers.Dense(1)])\n",
        "  network_model.compile(loss='mean_absolute_error', optimizer=tf.keras.optimizers.Adam(0.001))\n",
        "  return network_model\n",
        "\n",
        "## Single input Deep Neural\n",
        "female_model_DN = compile_func(gender_female_normalizer)\n",
        "\n",
        "\n",
        "## train the model and collect results references https://www.tensorflow.org/tutorials/keras/regression\n",
        "# single input train set\n",
        "%time\n",
        "history = female_model_DN.fit(train_feas['gender_female'], train_labels, validation_split=0, verbose=0, epochs=12)\n",
        "test_results['female_model_DN'] = female_model_DN.evaluate(test_feas['gender_female'], test_labels, verbose=0)\n",
        "\n",
        "regression_model_DN = compile_func(normalizer)\n",
        "\n",
        "%time\n",
        "history = regression_model_DN.fit(train_feas, train_labels, validation_split=0, verbose=0, epochs=250)\n",
        "test_results['regression_model_DN'] = regression_model_DN.evaluate(test_feas, test_labels, verbose=0)\n",
        "\n",
        "\n",
        "## using Test set\n",
        "test_regression_model_DN = compile_func(normalizer)\n",
        "%time\n",
        "history = test_regression_model_DN.fit(test_feas, test_labels, validation_split=0, verbose=0, epochs=250)\n",
        "test_results['test_regression_model_DN'] = test_regression_model_DN.evaluate(validation_feas, validation_labels, verbose=0)\n",
        "\n",
        "\n",
        "\n",
        "## using Validation set\n",
        "validation_regression_model_DN = compile_func(normalizer)\n",
        "%time\n",
        "history = validation_regression_model_DN.fit(validation_feas, validation_labels, validation_split=0, verbose=0, epochs=250)\n",
        "test_results['validation_regression_model_DN'] = validation_regression_model_DN.evaluate(validation_feas, validation_labels, verbose=0)\n",
        "\n",
        "pd.DataFrame(test_results, index=['Margin of error [scores]']).T\n",
        "## make predictions\n",
        "\n",
        "\n"
      ],
      "execution_count": 3,
      "outputs": [
        {
          "output_type": "stream",
          "name": "stdout",
          "text": [
            "2.7.0\n",
            "CPU times: user 3 µs, sys: 1e+03 ns, total: 4 µs\n",
            "Wall time: 6.2 µs\n",
            "WARNING:tensorflow:5 out of the last 9 calls to <function Model.make_predict_function.<locals>.predict_function at 0x7f12c21e9b90> triggered tf.function retracing. Tracing is expensive and the excessive number of tracings could be due to (1) creating @tf.function repeatedly in a loop, (2) passing tensors with different shapes, (3) passing Python objects instead of tensors. For (1), please define your @tf.function outside of the loop. For (2), @tf.function has experimental_relax_shapes=True option that relaxes argument shapes that can avoid unnecessary retracing. For (3), please refer to https://www.tensorflow.org/guide/function#controlling_retracing and https://www.tensorflow.org/api_docs/python/tf/function for  more details.\n",
            "1\n",
            "CPU times: user 3 µs, sys: 0 ns, total: 3 µs\n",
            "Wall time: 6.44 µs\n",
            "CPU times: user 2 µs, sys: 0 ns, total: 2 µs\n",
            "Wall time: 6.91 µs\n",
            "CPU times: user 2 µs, sys: 0 ns, total: 2 µs\n",
            "Wall time: 6.68 µs\n",
            "CPU times: user 3 µs, sys: 0 ns, total: 3 µs\n",
            "Wall time: 6.68 µs\n",
            "CPU times: user 2 µs, sys: 0 ns, total: 2 µs\n",
            "Wall time: 6.44 µs\n"
          ]
        },
        {
          "output_type": "execute_result",
          "data": {
            "text/html": [
              "<div>\n",
              "<style scoped>\n",
              "    .dataframe tbody tr th:only-of-type {\n",
              "        vertical-align: middle;\n",
              "    }\n",
              "\n",
              "    .dataframe tbody tr th {\n",
              "        vertical-align: top;\n",
              "    }\n",
              "\n",
              "    .dataframe thead th {\n",
              "        text-align: right;\n",
              "    }\n",
              "</style>\n",
              "<table border=\"1\" class=\"dataframe\">\n",
              "  <thead>\n",
              "    <tr style=\"text-align: right;\">\n",
              "      <th></th>\n",
              "      <th>Margin of error [scores]</th>\n",
              "    </tr>\n",
              "  </thead>\n",
              "  <tbody>\n",
              "    <tr>\n",
              "      <th>gender_female_model</th>\n",
              "      <td>39.913403</td>\n",
              "    </tr>\n",
              "    <tr>\n",
              "      <th>regression_model</th>\n",
              "      <td>40.180763</td>\n",
              "    </tr>\n",
              "    <tr>\n",
              "      <th>female_model_DN</th>\n",
              "      <td>12.407325</td>\n",
              "    </tr>\n",
              "    <tr>\n",
              "      <th>regression_model_DN</th>\n",
              "      <td>12.381817</td>\n",
              "    </tr>\n",
              "    <tr>\n",
              "      <th>test_regression_model_DN</th>\n",
              "      <td>12.195360</td>\n",
              "    </tr>\n",
              "    <tr>\n",
              "      <th>validation_regression_model_DN</th>\n",
              "      <td>6.270904</td>\n",
              "    </tr>\n",
              "  </tbody>\n",
              "</table>\n",
              "</div>"
            ],
            "text/plain": [
              "                                Margin of error [scores]\n",
              "gender_female_model                            39.913403\n",
              "regression_model                               40.180763\n",
              "female_model_DN                                12.407325\n",
              "regression_model_DN                            12.381817\n",
              "test_regression_model_DN                       12.195360\n",
              "validation_regression_model_DN                  6.270904"
            ]
          },
          "metadata": {},
          "execution_count": 3
        }
      ]
    },
    {
      "cell_type": "code",
      "metadata": {
        "id": "98IeS8UZm6aQ"
      },
      "source": [
        "from google.colab import drive\n",
        "drive.mount('/content/drive')"
      ],
      "execution_count": null,
      "outputs": []
    },
    {
      "cell_type": "code",
      "metadata": {
        "id": "9N-VcQvRqW3-"
      },
      "source": [
        ""
      ],
      "execution_count": null,
      "outputs": []
    },
    {
      "cell_type": "code",
      "metadata": {
        "id": "bwBgYTnWqXJP"
      },
      "source": [
        ""
      ],
      "execution_count": null,
      "outputs": []
    },
    {
      "cell_type": "code",
      "metadata": {
        "id": "5Dv9YOuFvVC_"
      },
      "source": [
        ""
      ],
      "execution_count": null,
      "outputs": []
    },
    {
      "cell_type": "code",
      "metadata": {
        "id": "6wzLtL0jvVjT"
      },
      "source": [
        ""
      ],
      "execution_count": null,
      "outputs": []
    },
    {
      "cell_type": "code",
      "metadata": {
        "id": "Jq7PsG4tvV90"
      },
      "source": [
        ""
      ],
      "execution_count": null,
      "outputs": []
    }
  ]
}